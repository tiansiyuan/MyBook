{
 "cells": [
  {
   "cell_type": "code",
   "execution_count": 1,
   "metadata": {
    "colab": {
     "base_uri": "https://localhost:8080/",
     "height": 34
    },
    "colab_type": "code",
    "executionInfo": {
     "elapsed": 837,
     "status": "ok",
     "timestamp": 1539066918944,
     "user": {
      "displayName": "Victor Zhang",
      "photoUrl": "",
      "userId": "17175242154365071029"
     },
     "user_tz": -480
    },
    "id": "OpovAGyskVe7",
    "outputId": "3bf908e2-cb31-4ec1-9461-27c0639ebae4"
   },
   "outputs": [
    {
     "name": "stdout",
     "output_type": "stream",
     "text": [
      "1.14.6\n"
     ]
    }
   ],
   "source": [
    "import numpy \n",
    "print(numpy.__version__)"
   ]
  },
  {
   "cell_type": "code",
   "execution_count": 2,
   "metadata": {
    "colab": {
     "base_uri": "https://localhost:8080/",
     "height": 34
    },
    "colab_type": "code",
    "executionInfo": {
     "elapsed": 2245,
     "status": "ok",
     "timestamp": 1539066923078,
     "user": {
      "displayName": "Victor Zhang",
      "photoUrl": "",
      "userId": "17175242154365071029"
     },
     "user_tz": -480
    },
    "id": "zC145Ljgj-VB",
    "outputId": "d9b53904-cd4a-42b8-9cdf-6abac6ee8f44"
   },
   "outputs": [
    {
     "name": "stdout",
     "output_type": "stream",
     "text": [
      "1.11.0\n"
     ]
    }
   ],
   "source": [
    "import tensorflow\n",
    "print(tensorflow.__version__)"
   ]
  },
  {
   "cell_type": "code",
   "execution_count": 0,
   "metadata": {
    "colab": {},
    "colab_type": "code",
    "id": "v4ynTjJKj-dD"
   },
   "outputs": [],
   "source": [
    "import numpy as np\n",
    "\n",
    "# 定义加载数据的函数\n",
    "def loadData():\n",
    "    # 加载评论（字符串）\n",
    "    with open('reviews.txt', 'r') as f:\n",
    "        reviews = f.read()\n",
    "\n",
    "    # 加载评论（字符串）的对应标签，是积极的还是消极的\n",
    "    with open('labels.txt', 'r') as f:\n",
    "        labels = f.read()\n",
    "        \n",
    "    # 返回评论和标签\n",
    "    return reviews, labels\n",
    "\n",
    "# 调用函数\n",
    "reviews, labels = loadData()"
   ]
  },
  {
   "cell_type": "code",
   "execution_count": 4,
   "metadata": {
    "colab": {
     "base_uri": "https://localhost:8080/",
     "height": 54
    },
    "colab_type": "code",
    "executionInfo": {
     "elapsed": 653,
     "status": "ok",
     "timestamp": 1539066927000,
     "user": {
      "displayName": "Victor Zhang",
      "photoUrl": "",
      "userId": "17175242154365071029"
     },
     "user_tz": -480
    },
    "id": "r3CE8abRkneE",
    "outputId": "f3db36c0-b89f-4af4-8a30-d9ef8952edb6"
   },
   "outputs": [
    {
     "data": {
      "text/plain": [
       "'bromwell high is a cartoon comedy . it ran at the same time as some other programs about school life  such as  teachers  . my   years in the teaching '"
      ]
     },
     "execution_count": 4,
     "metadata": {
      "tags": []
     },
     "output_type": "execute_result"
    }
   ],
   "source": [
    "# 查看评论的前150个字符是什么\n",
    "reviews[:150]"
   ]
  },
  {
   "cell_type": "code",
   "execution_count": 5,
   "metadata": {
    "colab": {
     "base_uri": "https://localhost:8080/",
     "height": 54
    },
    "colab_type": "code",
    "executionInfo": {
     "elapsed": 645,
     "status": "ok",
     "timestamp": 1539066927744,
     "user": {
      "displayName": "Victor Zhang",
      "photoUrl": "",
      "userId": "17175242154365071029"
     },
     "user_tz": -480
    },
    "id": "h-HKt2hTk5-B",
    "outputId": "9fb8b69b-25ae-485a-a0c6-5741aeb41a44"
   },
   "outputs": [
    {
     "data": {
      "text/plain": [
       "'positive\\nnegative\\npositive\\nnegative\\npositive\\nnegative\\npositive\\nnegative\\npositive\\nnegative\\npositive\\nnegative\\npositive\\nnegative\\npositive\\nnegative\\npositi'"
      ]
     },
     "execution_count": 5,
     "metadata": {
      "tags": []
     },
     "output_type": "execute_result"
    }
   ],
   "source": [
    "# 查看评论的对应标签的前150个字符是什么\n",
    "labels[:150]"
   ]
  },
  {
   "cell_type": "code",
   "execution_count": 0,
   "metadata": {
    "colab": {},
    "colab_type": "code",
    "id": "H9xQYxOAlQWR"
   },
   "outputs": [],
   "source": [
    "from string import punctuation \n",
    "\n",
    "# 定义数据预处理函数\n",
    "def dataPreprocess(reviews_str):\n",
    "    # 通过列表推导式将reviews_str字符串里的包含各种标点符号去掉，并返回一个字符组成的数组\n",
    "    # 然后通过join()函数将数组里的元素都连接成一个长长的字符串\n",
    "    all_text = ''.join(\n",
    "        [review for review in reviews_str if review not in punctuation])\n",
    "\n",
    "    # 将该字符串通过\\n换行符分割成数组\n",
    "    review_list = all_text.split('\\n')\n",
    "\n",
    "    # 将数组里的元素通过空格连接起来，形成一个长长的字符串\n",
    "    all_text = ' '.join(review_list)\n",
    "\n",
    "    # 然后通过使用split()函数的默认分隔符-空格来将字符串分割成一个个单词的数组\n",
    "    words = all_text.split()\n",
    "    \n",
    "    return review_list, all_text, words\n",
    "  \n",
    "# 调用函数\n",
    "reviews, all_text, words = dataPreprocess(reviews)"
   ]
  },
  {
   "cell_type": "code",
   "execution_count": 7,
   "metadata": {
    "colab": {
     "base_uri": "https://localhost:8080/",
     "height": 71
    },
    "colab_type": "code",
    "executionInfo": {
     "elapsed": 629,
     "status": "ok",
     "timestamp": 1539066933367,
     "user": {
      "displayName": "Victor Zhang",
      "photoUrl": "",
      "userId": "17175242154365071029"
     },
     "user_tz": -480
    },
    "id": "EtF6dmDfUAi4",
    "outputId": "4d4839de-f3b8-43ca-8812-cf3cb338dfda"
   },
   "outputs": [
    {
     "data": {
      "text/plain": [
       "['bromwell high is a cartoon comedy  it ran at the same time as some other programs about school life  such as  teachers   my   years in the teaching profession lead me to believe that bromwell high  s satire is much closer to reality than is  teachers   the scramble to survive financially  the insightful students who can see right through their pathetic teachers  pomp  the pettiness of the whole situation  all remind me of the schools i knew and their students  when i saw the episode in which a student repeatedly tried to burn down the school  i immediately recalled          at           high  a classic line inspector i  m here to sack one of your teachers  student welcome to bromwell high  i expect that many adults of my age think that bromwell high is far fetched  what a pity that it isn  t   ',\n",
       " 'story of a man who has unnatural feelings for a pig  starts out with a opening scene that is a terrific example of absurd comedy  a formal orchestra audience is turned into an insane  violent mob by the crazy chantings of it  s singers  unfortunately it stays absurd the whole time with no general narrative eventually making it just too off putting  even those from the era should be turned off  the cryptic dialogue would make shakespeare seem easy to a third grader  on a technical level it  s better than you might think with some good cinematography by future great vilmos zsigmond  future stars sally kirkland and frederic forrest can be seen briefly   ']"
      ]
     },
     "execution_count": 7,
     "metadata": {
      "tags": []
     },
     "output_type": "execute_result"
    }
   ],
   "source": [
    "reviews[:2]"
   ]
  },
  {
   "cell_type": "code",
   "execution_count": 8,
   "metadata": {
    "colab": {
     "base_uri": "https://localhost:8080/",
     "height": 357
    },
    "colab_type": "code",
    "executionInfo": {
     "elapsed": 968,
     "status": "ok",
     "timestamp": 1539066934474,
     "user": {
      "displayName": "Victor Zhang",
      "photoUrl": "",
      "userId": "17175242154365071029"
     },
     "user_tz": -480
    },
    "id": "hYYlGLQhyyLW",
    "outputId": "fcbc81a5-2211-4672-8b7d-7f7799258515"
   },
   "outputs": [
    {
     "data": {
      "text/plain": [
       "['bromwell',\n",
       " 'high',\n",
       " 'is',\n",
       " 'a',\n",
       " 'cartoon',\n",
       " 'comedy',\n",
       " 'it',\n",
       " 'ran',\n",
       " 'at',\n",
       " 'the',\n",
       " 'same',\n",
       " 'time',\n",
       " 'as',\n",
       " 'some',\n",
       " 'other',\n",
       " 'programs',\n",
       " 'about',\n",
       " 'school',\n",
       " 'life',\n",
       " 'such']"
      ]
     },
     "execution_count": 8,
     "metadata": {
      "tags": []
     },
     "output_type": "execute_result"
    }
   ],
   "source": [
    "# 查看前20个元素（单词）\n",
    "words[:20]"
   ]
  },
  {
   "cell_type": "code",
   "execution_count": 9,
   "metadata": {
    "colab": {
     "base_uri": "https://localhost:8080/",
     "height": 54
    },
    "colab_type": "code",
    "executionInfo": {
     "elapsed": 621,
     "status": "ok",
     "timestamp": 1539066935402,
     "user": {
      "displayName": "Victor Zhang",
      "photoUrl": "",
      "userId": "17175242154365071029"
     },
     "user_tz": -480
    },
    "id": "68fMw9gvm5RL",
    "outputId": "c88bd60f-4f6f-4ca4-9088-36731451a4e9"
   },
   "outputs": [
    {
     "data": {
      "text/plain": [
       "'bromwell high is a cartoon comedy  it ran at the same time as some other programs about school life  such as  teachers   my   years in the teaching pr'"
      ]
     },
     "execution_count": 9,
     "metadata": {
      "tags": []
     },
     "output_type": "execute_result"
    }
   ],
   "source": [
    "# 查看前150个字符串\n",
    "all_text[:150]"
   ]
  },
  {
   "cell_type": "code",
   "execution_count": 0,
   "metadata": {
    "colab": {},
    "colab_type": "code",
    "id": "gy0JWRkatfQG"
   },
   "outputs": [],
   "source": [
    "# 单词编码\n",
    "from collections import Counter\n",
    "\n",
    "# 统计单词的重复个数\n",
    "word_counter = Counter(words)\n",
    "\n",
    "# 将变量word_counter根据默认顺序进行逆序排序（从大到小），使用sorted方法，逆序设置参数reverse=True\n",
    "sorted_vocab = sorted(word_counter, key=word_counter.get, reverse=True)"
   ]
  },
  {
   "cell_type": "code",
   "execution_count": 0,
   "metadata": {
    "colab": {},
    "colab_type": "code",
    "id": "d1N8qAhXw8uC"
   },
   "outputs": [],
   "source": [
    "# 定义显示前10个单词以及它的重复个数的函数\n",
    "def showTop10Item(dict_obj):\n",
    "    word_index = 0\n",
    "    for k, v in dict_obj.items():\n",
    "        if word_index >= 10:\n",
    "            break\n",
    "        print(\"{}:{}\".format(k, v))\n",
    "        word_index+=1"
   ]
  },
  {
   "cell_type": "code",
   "execution_count": 12,
   "metadata": {
    "colab": {
     "base_uri": "https://localhost:8080/",
     "height": 187
    },
    "colab_type": "code",
    "executionInfo": {
     "elapsed": 626,
     "status": "ok",
     "timestamp": 1539066939287,
     "user": {
      "displayName": "Victor Zhang",
      "photoUrl": "",
      "userId": "17175242154365071029"
     },
     "user_tz": -480
    },
    "id": "pt3vpziL29xn",
    "outputId": "5e033238-0cd8-405f-dc4e-feaf331f7a7a"
   },
   "outputs": [
    {
     "name": "stdout",
     "output_type": "stream",
     "text": [
      "bromwell:8\n",
      "high:2161\n",
      "is:107328\n",
      "a:163009\n",
      "cartoon:545\n",
      "comedy:3246\n",
      "it:96352\n",
      "ran:238\n",
      "at:23513\n",
      "the:336713\n"
     ]
    }
   ],
   "source": [
    "# 显示变量word_counter里的单词和它对应的数量\n",
    "showTop10Item(word_counter)"
   ]
  },
  {
   "cell_type": "code",
   "execution_count": 13,
   "metadata": {
    "colab": {
     "base_uri": "https://localhost:8080/",
     "height": 272
    },
    "colab_type": "code",
    "executionInfo": {
     "elapsed": 916,
     "status": "ok",
     "timestamp": 1539066940320,
     "user": {
      "displayName": "Victor Zhang",
      "photoUrl": "",
      "userId": "17175242154365071029"
     },
     "user_tz": -480
    },
    "id": "K90I6Hqe0Wk0",
    "outputId": "affb2190-765b-4061-bd38-23b93112dfbc"
   },
   "outputs": [
    {
     "data": {
      "text/plain": [
       "[('the', 336713),\n",
       " ('and', 164107),\n",
       " ('a', 163009),\n",
       " ('of', 145864),\n",
       " ('to', 135720),\n",
       " ('is', 107328),\n",
       " ('br', 101872),\n",
       " ('it', 96352),\n",
       " ('in', 93968),\n",
       " ('i', 87623),\n",
       " ('this', 76000),\n",
       " ('that', 73245),\n",
       " ('s', 65361),\n",
       " ('was', 48208),\n",
       " ('as', 46933)]"
      ]
     },
     "execution_count": 13,
     "metadata": {
      "tags": []
     },
     "output_type": "execute_result"
    }
   ],
   "source": [
    "# 按照单词出现的数量从大到小的排序，查看前15个单词的出现次数\n",
    "word_counter.most_common(15)"
   ]
  },
  {
   "cell_type": "code",
   "execution_count": 14,
   "metadata": {
    "colab": {
     "base_uri": "https://localhost:8080/",
     "height": 272
    },
    "colab_type": "code",
    "executionInfo": {
     "elapsed": 694,
     "status": "ok",
     "timestamp": 1539066941130,
     "user": {
      "displayName": "Victor Zhang",
      "photoUrl": "",
      "userId": "17175242154365071029"
     },
     "user_tz": -480
    },
    "id": "GmQRorGo1li-",
    "outputId": "088ce396-9df5-46ef-84d3-8e495ac589af"
   },
   "outputs": [
    {
     "data": {
      "text/plain": [
       "['the',\n",
       " 'and',\n",
       " 'a',\n",
       " 'of',\n",
       " 'to',\n",
       " 'is',\n",
       " 'br',\n",
       " 'it',\n",
       " 'in',\n",
       " 'i',\n",
       " 'this',\n",
       " 'that',\n",
       " 's',\n",
       " 'was',\n",
       " 'as']"
      ]
     },
     "execution_count": 14,
     "metadata": {
      "tags": []
     },
     "output_type": "execute_result"
    }
   ],
   "source": [
    "# 查看排序后的前15个单词，和上面显示的结果一样\n",
    "sorted_vocab[:15]"
   ]
  },
  {
   "cell_type": "code",
   "execution_count": 15,
   "metadata": {
    "colab": {
     "base_uri": "https://localhost:8080/",
     "height": 187
    },
    "colab_type": "code",
    "executionInfo": {
     "elapsed": 887,
     "status": "ok",
     "timestamp": 1539066942142,
     "user": {
      "displayName": "Victor Zhang",
      "photoUrl": "",
      "userId": "17175242154365071029"
     },
     "user_tz": -480
    },
    "id": "uIJtv1TR2sSN",
    "outputId": "3e93db28-573f-44d8-b79b-973ee09e99c0"
   },
   "outputs": [
    {
     "name": "stdout",
     "output_type": "stream",
     "text": [
      "the:0\n",
      "and:1\n",
      "a:2\n",
      "of:3\n",
      "to:4\n",
      "is:5\n",
      "br:6\n",
      "it:7\n",
      "in:8\n",
      "i:9\n"
     ]
    }
   ],
   "source": [
    "# 创建单词对应的索引关系字典\n",
    "vocab_to_int = {word: i for i, word in enumerate(sorted_vocab, 1)}\n",
    "\n",
    "# 然后显示前10个单词以及它的个数\n",
    "showTop10Item(vocab_to_int)"
   ]
  },
  {
   "cell_type": "code",
   "execution_count": 0,
   "metadata": {
    "colab": {},
    "colab_type": "code",
    "id": "JV4g8A4S3Vpm"
   },
   "outputs": [],
   "source": [
    "# 将每个单词的索引位置取出来，然后添加到reviews_ints数组里\n",
    "# 也就是说，现在字符串里的每个单词，不是原来的单词字符串了，而是一个数值，表示它的索引\n",
    "reviews_ints = []\n",
    "for review in reviews:\n",
    "    reviews_ints.append([vocab_to_int[word] for word in review.split()])"
   ]
  },
  {
   "cell_type": "code",
   "execution_count": 17,
   "metadata": {
    "colab": {
     "base_uri": "https://localhost:8080/",
     "height": 54
    },
    "colab_type": "code",
    "executionInfo": {
     "elapsed": 934,
     "status": "ok",
     "timestamp": 1539066945966,
     "user": {
      "displayName": "Victor Zhang",
      "photoUrl": "",
      "userId": "17175242154365071029"
     },
     "user_tz": -480
    },
    "id": "yqbW_2xUF_AU",
    "outputId": "05b5f3b4-cd32-4a28-94c3-8e33e476cc00"
   },
   "outputs": [
    {
     "name": "stdout",
     "output_type": "stream",
     "text": [
      "[[21024, 307, 5, 2, 1049, 206, 7, 2137, 31, 0, 170, 56, 14, 48, 80, 5784, 43, 381, 109, 139, 14, 5193, 59, 153, 8, 0, 4974, 5851, 474, 70, 4, 259, 11, 21024, 307, 12, 1977, 5, 73, 2394, 4, 612, 72, 5, 5193, 0, 24102, 4, 1982, 10165, 0, 5785, 1498, 35, 50, 65, 203, 144, 66, 1198, 5193, 19868, 0, 37441, 3, 0, 220, 882, 30, 2987, 70, 3, 0, 5786, 9, 685, 1, 66, 1498, 53, 9, 215, 0, 382, 8, 61, 2, 1405, 3685, 782, 4, 3482, 179, 0, 381, 9, 1211, 13582, 31, 307, 2, 348, 340, 2912, 9, 142, 126, 4, 7689, 29, 3, 128, 5193, 1405, 2325, 4, 21024, 307, 9, 527, 11, 108, 1447, 3, 59, 542, 101, 11, 21024, 307, 5, 226, 4145, 47, 2, 2210, 11, 7, 214, 22]]\n"
     ]
    }
   ],
   "source": [
    "print(reviews_ints[:1])"
   ]
  },
  {
   "cell_type": "code",
   "execution_count": 18,
   "metadata": {
    "colab": {
     "base_uri": "https://localhost:8080/",
     "height": 34
    },
    "colab_type": "code",
    "executionInfo": {
     "elapsed": 968,
     "status": "ok",
     "timestamp": 1539066946961,
     "user": {
      "displayName": "Victor Zhang",
      "photoUrl": "",
      "userId": "17175242154365071029"
     },
     "user_tz": -480
    },
    "id": "njeS4OUxZnY7",
    "outputId": "e17e6c35-f496-44a7-f533-67fc0842dcc1"
   },
   "outputs": [
    {
     "data": {
      "text/plain": [
       "25001"
      ]
     },
     "execution_count": 18,
     "metadata": {
      "tags": []
     },
     "output_type": "execute_result"
    }
   ],
   "source": [
    "len(reviews_ints)"
   ]
  },
  {
   "cell_type": "code",
   "execution_count": 19,
   "metadata": {
    "colab": {
     "base_uri": "https://localhost:8080/",
     "height": 34
    },
    "colab_type": "code",
    "executionInfo": {
     "elapsed": 911,
     "status": "ok",
     "timestamp": 1539066947918,
     "user": {
      "displayName": "Victor Zhang",
      "photoUrl": "",
      "userId": "17175242154365071029"
     },
     "user_tz": -480
    },
    "id": "egJsb4if72dv",
    "outputId": "2b4dd058-a532-43ec-8391-19683971cbc0"
   },
   "outputs": [
    {
     "data": {
      "text/plain": [
       "array([1, 0, 1, 0, 1, 0, 1, 0, 1, 0])"
      ]
     },
     "execution_count": 19,
     "metadata": {
      "tags": []
     },
     "output_type": "execute_result"
    }
   ],
   "source": [
    "# 标签编码\n",
    "# 对positive进行编码为1，negative为0\n",
    "labels = labels.split('\\n')\n",
    "labels = np.array([1 if label == 'positive' else 0 for label in labels])\n",
    "\n",
    "# 查看前10个编码标签值\n",
    "labels[:10]"
   ]
  },
  {
   "cell_type": "code",
   "execution_count": 20,
   "metadata": {
    "colab": {
     "base_uri": "https://localhost:8080/",
     "height": 51
    },
    "colab_type": "code",
    "executionInfo": {
     "elapsed": 628,
     "status": "ok",
     "timestamp": 1539066948603,
     "user": {
      "displayName": "Victor Zhang",
      "photoUrl": "",
      "userId": "17175242154365071029"
     },
     "user_tz": -480
    },
    "id": "x2TGtqS3836Z",
    "outputId": "ace95d70-df90-49d2-a520-a78f04d756cc"
   },
   "outputs": [
    {
     "name": "stdout",
     "output_type": "stream",
     "text": [
      "评论的最小长度是: 1\n",
      "评论的最大长度是: 2514\n"
     ]
    }
   ],
   "source": [
    "from collections import Counter\n",
    "\n",
    "review_lens = Counter([len(x) for x in reviews_ints])\n",
    "print(\"评论的最小长度是: {}\".format(review_lens[0]))\n",
    "print(\"评论的最大长度是: {}\".format(max(review_lens)))"
   ]
  },
  {
   "cell_type": "code",
   "execution_count": 21,
   "metadata": {
    "colab": {
     "base_uri": "https://localhost:8080/",
     "height": 34
    },
    "colab_type": "code",
    "executionInfo": {
     "elapsed": 659,
     "status": "ok",
     "timestamp": 1539066949330,
     "user": {
      "displayName": "Victor Zhang",
      "photoUrl": "",
      "userId": "17175242154365071029"
     },
     "user_tz": -480
    },
    "id": "8oqe6cHMBn66",
    "outputId": "7fa8ad74-e1e7-4bc1-dc97-1941c9835708"
   },
   "outputs": [
    {
     "name": "stdout",
     "output_type": "stream",
     "text": [
      "25000\n"
     ]
    }
   ],
   "source": [
    "# 过滤掉评论的字符串长度为0的情况，并返回长度非零的索引，形成数组并返回\n",
    "non_zero_idx = [i for i, review in enumerate(reviews_ints) if len(review) != 0]\n",
    "\n",
    "# 去掉字符串长度为0的情况后，还有多少个评论\n",
    "print(len(non_zero_idx))"
   ]
  },
  {
   "cell_type": "code",
   "execution_count": 0,
   "metadata": {
    "colab": {},
    "colab_type": "code",
    "id": "ldgrwtXJK-El"
   },
   "outputs": [],
   "source": [
    "# 通过变量non_zero_idx索引数组，过滤掉变量reviews_ints里的字符串为0的情况\n",
    "reviews_ints = [reviews_ints[i] for i in non_zero_idx]\n",
    "\n",
    "# 过滤掉由于上面的字符串长度为0的那一行评论后，它对应的标签也需要过滤掉\n",
    "labels = np.array([labels[i] for i in non_zero_idx])"
   ]
  },
  {
   "cell_type": "code",
   "execution_count": 0,
   "metadata": {
    "colab": {},
    "colab_type": "code",
    "id": "Fe9gj1BotKjS"
   },
   "outputs": [],
   "source": [
    "# 现在，我们要创建一个features的变量来作为特征向量（Feature Vector），这个数据就是我们要传递到神经网络中的，\n",
    "# 数据来自于reviews_ints变量。因为我们要传递整型的数值到神经网络中，且每行的数值不能\n",
    "# 超过200个；所以就是，不足200长度的评论，前面使用0来填充；超过200长度的，我们截断前\n",
    "# 200个字符串的长度。\n",
    "\n",
    "# 定义一个评论的字符串最大长度是200\n",
    "seq_len = 200\n",
    "\n",
    "# 创建一个矩阵，里面的值都默认是0\n",
    "features = np.zeros((len(reviews_ints), seq_len), dtype=int)\n",
    "\n",
    "# 将reviews_ints里的值都截断在200的长度，并填充到变量features里。\n",
    "# 不足200长度的，就是它本身长度\n",
    "for i, row in enumerate(reviews_ints):\n",
    "    # 评论长度不足200的，我们在前面使用0来填充\n",
    "    features[i, -len(row):] = np.array(row)[:seq_len]"
   ]
  },
  {
   "cell_type": "code",
   "execution_count": 24,
   "metadata": {
    "colab": {
     "base_uri": "https://localhost:8080/",
     "height": 408
    },
    "colab_type": "code",
    "executionInfo": {
     "elapsed": 843,
     "status": "ok",
     "timestamp": 1539066956342,
     "user": {
      "displayName": "Victor Zhang",
      "photoUrl": "",
      "userId": "17175242154365071029"
     },
     "user_tz": -480
    },
    "id": "zXiIMCHgojlg",
    "outputId": "e646a3bf-8064-4403-c71c-3049fa13036e"
   },
   "outputs": [
    {
     "data": {
      "text/plain": [
       "array([[    0,     0,     0,     0,     0,     0,     0,     0,     0,\n",
       "            0,     0,     0,     0,     0,     0,     0,     0,     0,\n",
       "            0,     0,     0,     0,     0,     0,     0,     0,     0,\n",
       "            0,     0,     0,     0,     0,     0,     0,     0,     0,\n",
       "            0,     0,     0,     0,     0,     0,     0,     0,     0,\n",
       "            0,     0,     0,     0,     0,     0,     0,     0,     0,\n",
       "            0,     0,     0,     0,     0,     0, 21024,   307,     5,\n",
       "            2,  1049,   206,     7,  2137,    31,     0,   170,    56,\n",
       "           14,    48,    80,  5784,    43,   381,   109,   139,    14,\n",
       "         5193,    59,   153,     8,     0,  4974,  5851,   474,    70,\n",
       "            4,   259,    11, 21024,   307,    12,  1977,     5,    73,\n",
       "         2394,     4,   612,    72,     5,  5193,     0, 24102,     4,\n",
       "         1982, 10165,     0,  5785,  1498,    35,    50,    65,   203,\n",
       "          144,    66,  1198,  5193, 19868,     0, 37441,     3,     0,\n",
       "          220,   882,    30,  2987,    70,     3,     0,  5786,     9,\n",
       "          685,     1,    66,  1498,    53,     9,   215,     0,   382,\n",
       "            8,    61,     2,  1405,  3685,   782,     4,  3482,   179,\n",
       "            0,   381,     9,  1211, 13582,    31,   307,     2,   348,\n",
       "          340,  2912,     9,   142,   126,     4,  7689,    29,     3,\n",
       "          128,  5193,  1405,  2325,     4, 21024,   307,     9,   527,\n",
       "           11,   108,  1447,     3,    59,   542,   101,    11, 21024,\n",
       "          307,     5,   226,  4145,    47,     2,  2210,    11,     7,\n",
       "          214,    22]])"
      ]
     },
     "execution_count": 24,
     "metadata": {
      "tags": []
     },
     "output_type": "execute_result"
    }
   ],
   "source": [
    "# 查看第一个\n",
    "features[0:1]"
   ]
  },
  {
   "cell_type": "code",
   "execution_count": 25,
   "metadata": {
    "colab": {
     "base_uri": "https://localhost:8080/",
     "height": 34
    },
    "colab_type": "code",
    "executionInfo": {
     "elapsed": 639,
     "status": "ok",
     "timestamp": 1539066957167,
     "user": {
      "displayName": "Victor Zhang",
      "photoUrl": "",
      "userId": "17175242154365071029"
     },
     "user_tz": -480
    },
    "id": "P7Jlu2YTCG4V",
    "outputId": "d8d92e99-1633-42aa-b1f1-31c4b46860ea"
   },
   "outputs": [
    {
     "data": {
      "text/plain": [
       "(25000, 200)"
      ]
     },
     "execution_count": 25,
     "metadata": {
      "tags": []
     },
     "output_type": "execute_result"
    }
   ],
   "source": [
    "features.shape"
   ]
  },
  {
   "cell_type": "code",
   "execution_count": 26,
   "metadata": {
    "colab": {
     "base_uri": "https://localhost:8080/",
     "height": 85
    },
    "colab_type": "code",
    "executionInfo": {
     "elapsed": 962,
     "status": "ok",
     "timestamp": 1539066958285,
     "user": {
      "displayName": "Victor Zhang",
      "photoUrl": "",
      "userId": "17175242154365071029"
     },
     "user_tz": -480
    },
    "id": "ZZiR12JPCIRW",
    "outputId": "c196e206-1963-4759-bd6b-849356e924ad"
   },
   "outputs": [
    {
     "name": "stdout",
     "output_type": "stream",
     "text": [
      "\t\t\tFeature Shapes:\n",
      "Train set: \t\t(20000, 200) \n",
      "Validation set: \t(2500, 200) \n",
      "Test set: \t\t(2500, 200)\n"
     ]
    }
   ],
   "source": [
    "# 拆分训练集、验证集和测试集数据\n",
    "\n",
    "# 定义80%的数据用于训练\n",
    "split_train_ratio = 0.8\n",
    "\n",
    "# 特征向量的长度\n",
    "features_len = len(features)\n",
    "# 训练集的个数\n",
    "train_len = int(features_len * split_train_ratio)\n",
    "\n",
    "# 分割出训练集和验证集的数据\n",
    "train_x, val_x = features[:train_len], features[train_len:]\n",
    "train_y, val_y = labels[:train_len], labels[train_len:] \n",
    "\n",
    "# 将验证集的数量折半\n",
    "val_x_half_len = int(len(val_x) / 2)\n",
    "\n",
    "# 将验证集数据分成一半验证集，另一半测试集\n",
    "val_x, test_x = val_x[:val_x_half_len], val_x[val_x_half_len:]\n",
    "val_y, test_y = val_y[:val_x_half_len], val_y[val_x_half_len:]\n",
    "\n",
    "# 输出打印\n",
    "print(\"\\t\\t\\tFeature Shapes:\")\n",
    "print(\"Train set: \\t\\t{}\".format(train_x.shape), \n",
    "      \"\\nValidation set: \\t{}\".format(val_x.shape),\n",
    "      \"\\nTest set: \\t\\t{}\".format(test_x.shape))"
   ]
  },
  {
   "cell_type": "code",
   "execution_count": 0,
   "metadata": {
    "colab": {},
    "colab_type": "code",
    "id": "5PM1AQN4EZdJ"
   },
   "outputs": [],
   "source": [
    "# 定义超参数\n",
    "\n",
    "lstm_size = 256\n",
    "lstm_layers = 2\n",
    "batch_size = 512\n",
    "learning_rate = 0.01"
   ]
  },
  {
   "cell_type": "code",
   "execution_count": 34,
   "metadata": {
    "colab": {
     "base_uri": "https://localhost:8080/",
     "height": 88
    },
    "colab_type": "code",
    "executionInfo": {
     "elapsed": 8224,
     "status": "ok",
     "timestamp": 1539063545830,
     "user": {
      "displayName": "Victor Zhang",
      "photoUrl": "",
      "userId": "17175242154365071029"
     },
     "user_tz": -480
    },
    "id": "bZzFubphLN1s",
    "outputId": "f9e57991-1289-4797-efa4-a5a21cf61dc0"
   },
   "outputs": [
    {
     "name": "stdout",
     "output_type": "stream",
     "text": [
      "WARNING:tensorflow:From <ipython-input-34-7efbbfab1c3a>:32: BasicLSTMCell.__init__ (from tensorflow.python.ops.rnn_cell_impl) is deprecated and will be removed in a future version.\n",
      "Instructions for updating:\n",
      "This class is deprecated, please use tf.nn.rnn_cell.LSTMCell, which supports all the feature this cell currently has. Please replace the existing code with tf.nn.rnn_cell.LSTMCell(name='basic_lstm_cell').\n"
     ]
    }
   ],
   "source": [
    "import tensorflow as tf\n",
    "\n",
    "# 获取单词的总长度\n",
    "n_words = len(vocab_to_int) + 1\n",
    "\n",
    "# 创建默认计算图对象\n",
    "tf.reset_default_graph()\n",
    "\n",
    "# 给计算图上的张量的输入占位符添加一个前缀inputs\n",
    "with tf.name_scope('inputs'):\n",
    "    # 输入特征占位符\n",
    "    inputs_ = tf.placeholder(tf.int32, [None, None], name=\"inputs\")\n",
    "    # 输入标签占位符\n",
    "    labels_ = tf.placeholder(tf.int32, [None, None], name=\"labels\")\n",
    "    # 保留率占位符\n",
    "    keep_prob = tf.placeholder(tf.float32, name=\"keep_prob\")\n",
    "    \n",
    "    \n",
    "# 嵌入向量的大小\n",
    "embed_size = 300 \n",
    "\n",
    "# 给计算图上的张量的嵌入层变量和查找表添加一个前缀Embeddings\n",
    "with tf.name_scope(\"Embeddings\"):\n",
    "    # 均匀分布初始化嵌入层的变量，范围是-1到1之间\n",
    "    embedding = tf.Variable(tf.random_uniform((n_words, embed_size), -1, 1))\n",
    "    # 将输入特征占位符传入嵌入查找表\n",
    "    embed = tf.nn.embedding_lookup(embedding, inputs_)\n",
    "    \n",
    "    \n",
    "def lstm_cell():\n",
    "    # 创建基础LSTM cell\n",
    "    lstm = tf.contrib.rnn.BasicLSTMCell(lstm_size, reuse=tf.get_variable_scope().reuse)\n",
    "    # 添加dropout层到cell上\n",
    "    return tf.contrib.rnn.DropoutWrapper(lstm, output_keep_prob=keep_prob)\n",
    "\n",
    "# 给graph上的tensors的RNN层添加一个前缀RNN_layers\n",
    "with tf.name_scope(\"RNN_layers\"):\n",
    "    # 创建多个LSTM层\n",
    "    cell = tf.contrib.rnn.MultiRNNCell([lstm_cell() for _ in range(lstm_layers)])\n",
    "    \n",
    "    # 获取一个初始化状态，默认值都是0\n",
    "    initial_state = cell.zero_state(batch_size, tf.float32)"
   ]
  },
  {
   "cell_type": "code",
   "execution_count": 0,
   "metadata": {
    "colab": {},
    "colab_type": "code",
    "id": "AkdqxMISLT6u"
   },
   "outputs": [],
   "source": [
    "with tf.name_scope(\"RNN_forward\"):\n",
    "    # 通过dynamic_rnn可以返回每一步的输出和隐藏层的最后状态\n",
    "    outputs, final_state = tf.nn.dynamic_rnn(cell, embed, initial_state=initial_state)\n",
    "    \n",
    "with tf.name_scope('predictions'):\n",
    "    # 创建输出层，由于我们预测的输出是1或者0，所以sigmoid激活函数是最好的选择\n",
    "    predictions = tf.contrib.layers.fully_connected(outputs[:, -1], 1, activation_fn=tf.sigmoid)\n",
    "    \n",
    "with tf.name_scope('cost'):\n",
    "    # 定义均方差训练损失函数\n",
    "    cost = tf.losses.mean_squared_error(labels_, predictions)\n",
    "\n",
    "with tf.name_scope('train'):\n",
    "    # 定义训练优化器\n",
    "    optimizer = tf.train.AdamOptimizer(learning_rate).minimize(cost)\n",
    "    \n",
    "with tf.name_scope('validation'):\n",
    "    # 计算验证精确度\n",
    "    correct_pred = tf.equal(tf.cast(tf.round(predictions), tf.int32), labels_)\n",
    "    accuracy = tf.reduce_mean(tf.cast(correct_pred, tf.float32))"
   ]
  },
  {
   "cell_type": "code",
   "execution_count": 0,
   "metadata": {
    "colab": {},
    "colab_type": "code",
    "id": "YHckinEyLYX6"
   },
   "outputs": [],
   "source": [
    "# 定义获取数据批次的生成器函数\n",
    "def get_batches(x, y, batch_size=100):\n",
    "    # 计算得出有多少个批次，这里是整除，所以假如x的总数不能被batch_size整除，\n",
    "    # 那么会剩下很小的一部分数据暂时会被丢弃\n",
    "    n_batches = len(x)//batch_size\n",
    "    # 然后再次确定x和y的数据集的数据\n",
    "    x, y = x[:n_batches*batch_size], y[:n_batches*batch_size]\n",
    "    # 通过for循环，使用yield关键字构建生成器函数\n",
    "    for ii in range(0, len(x), batch_size):\n",
    "        yield x[ii:ii+batch_size], y[ii:ii+batch_size]"
   ]
  },
  {
   "cell_type": "code",
   "execution_count": 0,
   "metadata": {
    "colab": {},
    "colab_type": "code",
    "id": "EmEZa7WsLcWH"
   },
   "outputs": [],
   "source": [
    "# 设置迭代次数，8次\n",
    "epochs = 8\n",
    "\n",
    "# 创建检查点保存对象\n",
    "saver = tf.train.Saver()\n",
    "\n",
    "# 创建一个TensorFlow会话\n",
    "with tf.Session() as sess:\n",
    "    # 初始化全局变量\n",
    "    sess.run(tf.global_variables_initializer())\n",
    "    \n",
    "    iteration = 1\n",
    "    # 开始迭代\n",
    "    for e in range(epochs):\n",
    "        # 首次计算初始化状态\n",
    "        state = sess.run(initial_state)\n",
    "        \n",
    "        # 将所有的数据都进行训练，get_batches()函数会获取数据生成器，然后进行迭代\n",
    "        for ii, (x, y) in enumerate(get_batches(train_x, train_y, batch_size), 1):\n",
    "            feed = {inputs_: x,\n",
    "                    labels_: y[:, None],\n",
    "                    keep_prob: 0.5,\n",
    "                    initial_state: state}\n",
    "            loss, state, _ = sess.run([cost, final_state, optimizer], feed_dict=feed)\n",
    "        \n",
    "            # 每训练5次时，打印一次训练日志\n",
    "            if iteration%5==0:\n",
    "                print(\"Epoch: {}/{}\".format(e, epochs),\n",
    "                      \"Iteration: {}\".format(iteration),\n",
    "                      \"Train loss: {:.3f}\".format(loss))\n",
    "\n",
    "            # 每训练25次时，打印一次验证日志\n",
    "            if iteration%25==0:\n",
    "                val_acc = []\n",
    "                val_state = sess.run(cell.zero_state(batch_size, tf.float32))\n",
    "                # 对验证集的所有数据进行计算分值\n",
    "                for x, y in get_batches(val_x, val_y, batch_size):\n",
    "                    feed = {inputs_: x,\n",
    "                            labels_: y[:, None],\n",
    "                            keep_prob: 1,\n",
    "                            initial_state: val_state}\n",
    "                    batch_acc, val_state = \\\n",
    "                        sess.run([accuracy, final_state], feed_dict=feed)\n",
    "                    # 每25次训练后，完全的验证一次，得到验证分值，保存在数组val_acc里，\n",
    "                    val_acc.append(batch_acc)\n",
    "                # 打印每25次训练后，验证的均值\n",
    "                print(\"Val acc: {:.3f}\".format(np.mean(val_acc)))\n",
    "            iteration +=1\n",
    "            \n",
    "            # 每批次时都记录检查点\n",
    "            saver.save(sess, \"checkpoints/sentiment.ckpt\")\n",
    "    # 当所有的数据迭代训练完毕后，最后记录一次检查点\n",
    "    saver.save(sess, \"checkpoints/sentiment.ckpt\")"
   ]
  },
  {
   "cell_type": "code",
   "execution_count": 0,
   "metadata": {
    "colab": {},
    "colab_type": "code",
    "id": "aYzQj8XaLeV5"
   },
   "outputs": [],
   "source": [
    "test_acc = []\n",
    "with tf.Session() as sess:\n",
    "    # 从检查点恢复已训练的模型\n",
    "    saver.restore(sess, \"checkpoints/sentiment.ckpt\")\n",
    "    # 在计算测试集数据前，先创建一个空的状态\n",
    "    test_state = sess.run(cell.zero_state(batch_size, tf.float32))\n",
    "    # 获取测试集数据生成器\n",
    "    for ii, (x, y) in enumerate(get_batches(test_x, test_y, batch_size), 1):\n",
    "        feed = {inputs_: x,\n",
    "                labels_: y[:, None],\n",
    "                keep_prob: 1,\n",
    "                initial_state: test_state}\n",
    "        # 开始批次计算测试集数据\n",
    "        batch_acc, test_state = sess.run([accuracy, final_state], feed_dict=feed)\n",
    "        # 将每个批次的得分保存到数组\n",
    "        test_acc.append(batch_acc)\n",
    "    # 最后输出测试得分均值，即精确度\n",
    "    print(\"Test accuracy: {:.3f}\".format(np.mean(test_acc)))"
   ]
  },
  {
   "cell_type": "code",
   "execution_count": 0,
   "metadata": {
    "colab": {},
    "colab_type": "code",
    "id": "FjovNi_zQPxf"
   },
   "outputs": [],
   "source": []
  },
  {
   "cell_type": "code",
   "execution_count": 0,
   "metadata": {
    "colab": {},
    "colab_type": "code",
    "id": "9vGVgHXfxC8K"
   },
   "outputs": [],
   "source": []
  },
  {
   "cell_type": "code",
   "execution_count": 33,
   "metadata": {
    "colab": {
     "base_uri": "https://localhost:8080/",
     "height": 357
    },
    "colab_type": "code",
    "executionInfo": {
     "elapsed": 1170443,
     "status": "ok",
     "timestamp": 1539068453571,
     "user": {
      "displayName": "Victor Zhang",
      "photoUrl": "",
      "userId": "17175242154365071029"
     },
     "user_tz": -480
    },
    "id": "kSi7kj952Nms",
    "outputId": "5b751d41-71d9-4362-ff36-2feca28d66ea"
   },
   "outputs": [
    {
     "name": "stdout",
     "output_type": "stream",
     "text": [
      "_________________________________________________________________\n",
      "Layer (type)                 Output Shape              Param #   \n",
      "=================================================================\n",
      "embedding_1 (Embedding)      (None, 500, 32)           160000    \n",
      "_________________________________________________________________\n",
      "lstm_1 (LSTM)                (None, 100)               53200     \n",
      "_________________________________________________________________\n",
      "dense_1 (Dense)              (None, 1)                 101       \n",
      "=================================================================\n",
      "Total params: 213,301\n",
      "Trainable params: 213,301\n",
      "Non-trainable params: 0\n",
      "_________________________________________________________________\n",
      "Epoch 1/3\n",
      "25000/25000 [==============================] - 358s 14ms/step - loss: 0.4492 - acc: 0.7843\n",
      "Epoch 2/3\n",
      "25000/25000 [==============================] - 357s 14ms/step - loss: 0.3452 - acc: 0.8598\n",
      "Epoch 3/3\n",
      "25000/25000 [==============================] - 357s 14ms/step - loss: 0.2667 - acc: 0.8938\n",
      "Accuracy: 85.63199999999999\n"
     ]
    }
   ],
   "source": [
    "import numpy\n",
    "from keras.datasets import imdb\n",
    "from keras.models import Sequential\n",
    "from keras.layers import Dense, LSTM\n",
    "from keras.layers.embeddings import Embedding\n",
    "from keras.preprocessing import sequence\n",
    "\n",
    "# 为了确保可复现性，我们设置一个随机种子\n",
    "numpy.random.seed(7)\n",
    "\n",
    "# 设置5000的意思是，只保留前面5000个以内常见的单词，其它的都为0\n",
    "top_words = 5000\n",
    "\n",
    "# 加载数据集\n",
    "(X_train, y_train), (X_test, y_test) = imdb.load_data(num_words=top_words)\n",
    "\n",
    "# 设置单个影评的最大长度是500\n",
    "review_max_length = 500\n",
    "\n",
    "# 影评长度不够500的用0填充，超过500的截断\n",
    "X_train = sequence.pad_sequences(X_train, maxlen=review_max_length)\n",
    "X_test = sequence.pad_sequences(X_test, maxlen=review_max_length)\n",
    "\n",
    "# 创建模型\n",
    "embedding_vecor_length = 32\n",
    "model = Sequential()\n",
    "# 添加输入嵌入层\n",
    "model.add(Embedding(top_words, embedding_vecor_length, input_length=review_max_length))\n",
    "# 添加LSTM隐藏层\n",
    "model.add(LSTM(100))\n",
    "# 添加输出层（全连接层），二分类问题，使用sigmoid激活函数\n",
    "model.add(Dense(1, activation='sigmoid'))\n",
    "# 编译模型，二分类问题，使用二进制交叉熵来计算损失\n",
    "model.compile(loss='binary_crossentropy', optimizer='adam', metrics=['accuracy'])\n",
    "# 输出显示模型架构\n",
    "model.summary()\n",
    "\n",
    "# 训练模型，所有的训练数据集都要经过3次训练，每次训练时的每批次大小是64个\n",
    "model.fit(X_train, y_train, epochs=3, batch_size=64)\n",
    "\n",
    "# 最后评估模型\n",
    "scores = model.evaluate(X_test, y_test, verbose=0)\n",
    "print(\"Accuracy: {}\".format((scores[1]*100)))"
   ]
  },
  {
   "cell_type": "code",
   "execution_count": 0,
   "metadata": {
    "colab": {},
    "colab_type": "code",
    "id": "I0phdPaE5Mlg"
   },
   "outputs": [],
   "source": []
  }
 ],
 "metadata": {
  "colab": {
   "collapsed_sections": [],
   "name": "Sentiment_Analysis.ipynb",
   "provenance": [],
   "version": "0.3.2"
  },
  "kernelspec": {
   "display_name": "Python 3",
   "language": "python",
   "name": "python3"
  },
  "language_info": {
   "codemirror_mode": {
    "name": "ipython",
    "version": 3
   },
   "file_extension": ".py",
   "mimetype": "text/x-python",
   "name": "python",
   "nbconvert_exporter": "python",
   "pygments_lexer": "ipython3",
   "version": "3.6.6"
  }
 },
 "nbformat": 4,
 "nbformat_minor": 1
}
